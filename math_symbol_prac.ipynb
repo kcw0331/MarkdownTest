{
  "nbformat": 4,
  "nbformat_minor": 0,
  "metadata": {
    "colab": {
      "name": "Untitled1.ipynb",
      "provenance": [],
      "authorship_tag": "ABX9TyOSICLBWirHJBH92IC+1JO6",
      "include_colab_link": true
    },
    "kernelspec": {
      "name": "python3",
      "display_name": "Python 3"
    },
    "language_info": {
      "name": "python"
    }
  },
  "cells": [
    {
      "cell_type": "markdown",
      "metadata": {
        "id": "view-in-github",
        "colab_type": "text"
      },
      "source": [
        "<a href=\"https://colab.research.google.com/github/kcw0331/testrepository/blob/main/math_symbol_prac.ipynb\" target=\"_parent\"><img src=\"https://colab.research.google.com/assets/colab-badge.svg\" alt=\"Open In Colab\"/></a>"
      ]
    },
    {
      "cell_type": "markdown",
      "metadata": {
        "id": "S_egGc2y0dP5"
      },
      "source": [
        "## 수학 기호 연습\n",
        "\n",
        "수식기호들을 집어넣는 연습을 하게된다. $\\theta = 1$, $1 \\le 5$  \n",
        "$\\sum_{i=1}^{n} i^2$ "
      ]
    },
    {
      "cell_type": "markdown",
      "metadata": {
        "id": "Oz-OMzL-1nao"
      },
      "source": [
        "$$\n",
        "\\sum_{i=1}^{n} \\frac{1}{i}\n",
        "$$"
      ]
    },
    {
      "cell_type": "code",
      "metadata": {
        "colab": {
          "base_uri": "https://localhost:8080/"
        },
        "id": "CFinopOycpQn",
        "outputId": "df6c78d1-b5c7-48ef-da21-3019b7dff34a"
      },
      "source": [
        "1+1"
      ],
      "execution_count": 1,
      "outputs": [
        {
          "output_type": "execute_result",
          "data": {
            "text/plain": [
              "2"
            ]
          },
          "metadata": {},
          "execution_count": 1
        }
      ]
    },
    {
      "cell_type": "markdown",
      "metadata": {
        "id": "mxTXGMYEdMbK"
      },
      "source": [
        "# Latex로 수식에 대한 표현정리."
      ]
    },
    {
      "cell_type": "markdown",
      "metadata": {
        "id": "S1hACSEAdRXU"
      },
      "source": [
        "### 덧셈, 뺄셈, 곱셈, 나눗셈"
      ]
    },
    {
      "cell_type": "markdown",
      "metadata": {
        "id": "ZJ4A2MEPdYqV"
      },
      "source": [
        "$$A + B - C \\times D \\div E$$"
      ]
    },
    {
      "cell_type": "markdown",
      "metadata": {
        "id": "7cFcoCjXdgia"
      },
      "source": [
        "### 분수"
      ]
    },
    {
      "cell_type": "markdown",
      "metadata": {
        "id": "SmhxABOTdj7d"
      },
      "source": [
        "$$\\frac{A}{B}$$"
      ]
    },
    {
      "cell_type": "markdown",
      "metadata": {
        "id": "17XfgKaddoGz"
      },
      "source": [
        "### 합\n"
      ]
    },
    {
      "cell_type": "markdown",
      "metadata": {
        "id": "fE5LunoKdp0x"
      },
      "source": [
        "$$\\sum_{i=0}^{n}{log{(i)}}$$"
      ]
    },
    {
      "cell_type": "markdown",
      "metadata": {
        "id": "X8AGmeCddy8D"
      },
      "source": [
        "### 미분"
      ]
    },
    {
      "cell_type": "markdown",
      "metadata": {
        "id": "Y-F5obwLd0o1"
      },
      "source": [
        "$$\\frac{df(x)}{dx} = \\lim_{h\\to0} \\frac{f(x+h)-f(x)}{h}$$"
      ]
    },
    {
      "cell_type": "markdown",
      "metadata": {
        "id": "zpOfOrB-eZf5"
      },
      "source": [
        "### 적분\n"
      ]
    },
    {
      "cell_type": "markdown",
      "metadata": {
        "id": "BYRmUojGecHf"
      },
      "source": [
        "$$\\int_{0}^{1}{f(x)dx}$$"
      ]
    },
    {
      "cell_type": "markdown",
      "metadata": {
        "id": "zTYTzvjAejGQ"
      },
      "source": [
        "### 행렬\n"
      ]
    },
    {
      "cell_type": "markdown",
      "metadata": {
        "id": "wCJG5rvLekZg"
      },
      "source": [
        "$$A=\\begin{bmatrix}\n",
        "0 & 1 & 2\\\\\n",
        "3 & 4 & 5\\\\\n",
        "6 & 7 & 8\n",
        "\\end{bmatrix}\n",
        "$$"
      ]
    },
    {
      "cell_type": "markdown",
      "metadata": {
        "id": "6uVSVjnieygl"
      },
      "source": [
        "### 로그\n"
      ]
    },
    {
      "cell_type": "markdown",
      "metadata": {
        "id": "JYgpWwCqe1gD"
      },
      "source": [
        "$$x=a^{y} \\Longleftrightarrow y=log_{a}{x}$$"
      ]
    }
  ]
}