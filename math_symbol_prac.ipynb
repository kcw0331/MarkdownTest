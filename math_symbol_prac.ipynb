{
  "nbformat": 4,
  "nbformat_minor": 0,
  "metadata": {
    "colab": {
      "name": "Untitled1.ipynb",
      "provenance": [],
      "authorship_tag": "ABX9TyMTUnM4UBT5ZeDZhdlChB4x",
      "include_colab_link": true
    },
    "kernelspec": {
      "name": "python3",
      "display_name": "Python 3"
    },
    "language_info": {
      "name": "python"
    }
  },
  "cells": [
    {
      "cell_type": "markdown",
      "metadata": {
        "id": "view-in-github",
        "colab_type": "text"
      },
      "source": [
        "<a href=\"https://colab.research.google.com/github/kcw0331/testrepository/blob/main/math_symbol_prac.ipynb\" target=\"_parent\"><img src=\"https://colab.research.google.com/assets/colab-badge.svg\" alt=\"Open In Colab\"/></a>"
      ]
    },
    {
      "cell_type": "markdown",
      "metadata": {
        "id": "S_egGc2y0dP5"
      },
      "source": [
        "## 수학 기호 연습\n",
        "\n",
        "수식기호들을 집어넣는 연습을 하게된다. $\\theta = 1$, $1 \\le 5$  \n",
        "$\\sum_{i=1}^{n} i^2$ "
      ]
    },
    {
      "cell_type": "markdown",
      "metadata": {
        "id": "Oz-OMzL-1nao"
      },
      "source": [
        "$$\n",
        "\\sum_{i=1}^{n} \\frac{1}{i}\n",
        "$$"
      ]
    },
    {
      "cell_type": "code",
      "metadata": {
        "colab": {
          "base_uri": "https://localhost:8080/"
        },
        "id": "CFinopOycpQn",
        "outputId": "ff3c927f-efcf-4065-fe28-14846300fa5a"
      },
      "source": [
        "1+1"
      ],
      "execution_count": null,
      "outputs": [
        {
          "output_type": "execute_result",
          "data": {
            "text/plain": [
              "2"
            ]
          },
          "metadata": {},
          "execution_count": 1
        }
      ]
    }
  ]
}